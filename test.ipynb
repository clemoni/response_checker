{
 "cells": [
  {
   "cell_type": "code",
   "execution_count": 5,
   "metadata": {},
   "outputs": [],
   "source": [
    "from utilities import primary_tools as pt\n",
    "\n",
    "from time import sleep\n",
    "\n",
    "from datetime import datetime \n",
    "\n",
    "from os import path, environ\n",
    "\n",
    "from multiprocessing import Queue, Process"
   ]
  },
  {
   "cell_type": "code",
   "execution_count": 20,
   "metadata": {},
   "outputs": [],
   "source": [
    "\n",
    "\n",
    "def init_folder_scan(queue, folder_path, scan_time=3, current_size=None, current_ts=None):\n",
    "    current_size = len(pt.get_folder_object_from_dir(folder_path)) if current_size is None else current_size\n",
    "    current_ts= datetime.now().timestamp() if current_ts is None else current_ts\n",
    "    \n",
    "    folder_scan_dict={\n",
    "        'current_size':current_size,\n",
    "        'current_ts':current_ts\n",
    "    }\n",
    "        \n",
    "    def collect_current_size(folder_path):\n",
    "            \n",
    "        return len(pt.get_folder_object_from_dir(folder_path))\n",
    "        \n",
    "    def collect_new_folder_created():\n",
    "        folder_collect=pt.get_folder_object_from_dir(folder_path)\n",
    "            \n",
    "        return [folder for folder in folder_collect if path.getctime(folder.path) > folder_scan_dict['current_ts']]\n",
    "        \n",
    "        \n",
    "    def r_get_earliest_ts_from_new_folder(new_folder_list, current_ts, save_list=None, earliest_ts=None):\n",
    "        save_list=new_folder_list.copy() if save_list is None else save_list\n",
    "        earliest_ts=current_ts if earliest_ts is None else earliest_ts\n",
    "    \n",
    "        if len(save_list)==0:\n",
    "            return earliest_ts\n",
    "        else:\n",
    "            current_folder=save_list.pop(0)\n",
    "                \n",
    "            folder_ctime=path.getctime(current_folder.path)\n",
    "                \n",
    "            earliest_ts= folder_ctime if earliest_ts < folder_ctime else earliest_ts\n",
    "                \n",
    "            return r_get_earliest_ts_from_new_folder(new_folder_list, current_ts, save_list, earliest_ts)\n",
    "            \n",
    "        \n",
    "            \n",
    "    while True:\n",
    "                \n",
    "        print('new_loop')\n",
    "                \n",
    "        new_size=collect_current_size(folder_path)\n",
    "                \n",
    "        if new_size > folder_scan_dict['current_size']:\n",
    "                    \n",
    "            new_folders_list=collect_new_folder_created()\n",
    "\n",
    "            for i in new_folders_list:\n",
    "                 queue.put(i.path)\n",
    "                    \n",
    "            print(new_folders_list)\n",
    "                    \n",
    "            folder_scan_dict['current_size']=new_size\n",
    "                    \n",
    "            folder_scan_dict['current_ts']=r_get_earliest_ts_from_new_folder(new_folders_list, folder_scan_dict['current_ts'])\n",
    "                    \n",
    "            sleep(scan_time)\n",
    "                \n",
    "        # def get_current_size(): return folder_scan_dict['current_size']\n",
    "        \n",
    "        # def get_current_ts(): return folder_scan_dict['current_ts']\n",
    "        \n",
    "    #     return {\n",
    "    #         \"get_current_size\":get_current_size,\n",
    "    #         \"get_current_ts\":get_current_ts,\n",
    "    #         \"scan_new_folder\":scan_new_folder\n",
    "            \n",
    "    #     }.get(fn)\n",
    "            \n",
    "    # return wrapper\n",
    "\n",
    "\n",
    "def consumer(queue):\n",
    "    print('Consumer: Running', flush=True)\n",
    "    # consume work\n",
    "    while True:\n",
    "        # get a unit of work\n",
    "        item = queue.get()\n",
    "        # check for stop\n",
    "        if item is None:\n",
    "            break\n",
    "        # report\n",
    "        print(f'>got {item.name}', flush=True)\n",
    "    # all done\n",
    "    print('Consumer: Done', flush=True)"
   ]
  },
  {
   "cell_type": "code",
   "execution_count": 21,
   "metadata": {},
   "outputs": [
    {
     "name": "stderr",
     "output_type": "stream",
     "text": [
      "Traceback (most recent call last):\n",
      "  File \"<string>\", line 1, in <module>\n",
      "  File \"/Users/clement/opt/anaconda3/envs/cbm-preparation/lib/python3.10/multiprocessing/spawn.py\", line 116, in spawn_main\n",
      "    exitcode = _main(fd, parent_sentinel)\n",
      "  File \"/Users/clement/opt/anaconda3/envs/cbm-preparation/lib/python3.10/multiprocessing/spawn.py\", line 126, in _main\n",
      "    self = reduction.pickle.load(from_parent)\n",
      "AttributeError: Can't get attribute 'consumer' on <module '__main__' (built-in)>\n",
      "Traceback (most recent call last):\n",
      "  File \"<string>\", line 1, in <module>\n",
      "  File \"/Users/clement/opt/anaconda3/envs/cbm-preparation/lib/python3.10/multiprocessing/spawn.py\", line 116, in spawn_main\n",
      "    exitcode = _main(fd, parent_sentinel)\n",
      "  File \"/Users/clement/opt/anaconda3/envs/cbm-preparation/lib/python3.10/multiprocessing/spawn.py\", line 126, in _main\n",
      "    self = reduction.pickle.load(from_parent)\n",
      "AttributeError: Can't get attribute 'init_folder_scan' on <module '__main__' (built-in)>\n"
     ]
    }
   ],
   "source": [
    "queue = Queue()\n",
    "\n",
    "folder_path=\"/Users/clement/Downloads/test_picking\"\n",
    "\n",
    "# folder_scan=init_folder_scan(queue, folder_path)\n",
    "\n",
    "# scan_folder=folder_scan('scan_new_folder')\n",
    "\n",
    "consumer_process = Process(target=consumer, args=(queue,))\n",
    "consumer_process.start()\n",
    "\n",
    "\n",
    "producer_process = Process(target=init_folder_scan, args=(queue, folder_path))\n",
    "producer_process.start()\n",
    "\n"
   ]
  },
  {
   "cell_type": "code",
   "execution_count": 22,
   "metadata": {},
   "outputs": [
    {
     "data": {
      "text/plain": [
       "198"
      ]
     },
     "execution_count": 22,
     "metadata": {},
     "output_type": "execute_result"
    }
   ],
   "source": [
    "import random\n",
    "\n",
    "random.randrange(0,200)"
   ]
  },
  {
   "cell_type": "code",
   "execution_count": null,
   "metadata": {},
   "outputs": [],
   "source": [
    "\n",
    "    # start the producer\n",
    "    producer_process = Process(target=producer, args=(queue,))\n",
    "    producer_process.start()\n",
    "\n",
    "\n",
    "    pt.get_folder_object_from_dir"
   ]
  },
  {
   "cell_type": "code",
   "execution_count": 43,
   "metadata": {},
   "outputs": [],
   "source": [
    "timeout=datetime.now()"
   ]
  },
  {
   "cell_type": "code",
   "execution_count": 44,
   "metadata": {},
   "outputs": [],
   "source": [
    "timeout_3=datetime.now()"
   ]
  },
  {
   "cell_type": "code",
   "execution_count": 45,
   "metadata": {},
   "outputs": [
    {
     "data": {
      "text/plain": [
       "3.462624"
      ]
     },
     "execution_count": 45,
     "metadata": {},
     "output_type": "execute_result"
    }
   ],
   "source": [
    "delta=timeout_3-timeout\n",
    "delta.total_seconds()"
   ]
  },
  {
   "cell_type": "code",
   "execution_count": null,
   "metadata": {},
   "outputs": [],
   "source": []
  },
  {
   "cell_type": "code",
   "execution_count": null,
   "metadata": {},
   "outputs": [],
   "source": []
  }
 ],
 "metadata": {
  "interpreter": {
   "hash": "333f409ac02da985310c60f77ea15f867e78561b1c1368be4b9c8b4880ebafa6"
  },
  "kernelspec": {
   "display_name": "Python 3.10.6 ('cbm-preparation')",
   "language": "python",
   "name": "python3"
  },
  "language_info": {
   "codemirror_mode": {
    "name": "ipython",
    "version": 3
   },
   "file_extension": ".py",
   "mimetype": "text/x-python",
   "name": "python",
   "nbconvert_exporter": "python",
   "pygments_lexer": "ipython3",
   "version": "3.10.6"
  },
  "orig_nbformat": 4
 },
 "nbformat": 4,
 "nbformat_minor": 2
}
